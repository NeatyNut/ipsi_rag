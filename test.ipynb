{
 "cells": [
  {
   "cell_type": "code",
   "execution_count": 20,
   "metadata": {},
   "outputs": [],
   "source": [
    "! pip install -U --quiet langchain-google-genai\n",
    "! pip install -U --quiet langchain tiktoken pypdf sentence_transformers chromadb"
   ]
  },
  {
   "cell_type": "code",
   "execution_count": 15,
   "metadata": {},
   "outputs": [],
   "source": [
    "## 관련 라이브러리 다운로드\n",
    "from langchain.document_loaders import PyPDFLoader\n",
    "from langchain.text_splitter import RecursiveCharacterTextSplitter\n",
    "from langchain.embeddings import HuggingFaceEmbeddings\n",
    "from langchain.vectorstores import Chroma\n",
    "from langchain_google_genai import ChatGoogleGenerativeAI\n",
    "from langchain.prompts import ChatPromptTemplate\n",
    "from langchain.schema.runnable import RunnableMap\n",
    "import os"
   ]
  },
  {
   "cell_type": "code",
   "execution_count": 16,
   "metadata": {},
   "outputs": [],
   "source": [
    "## 1. 로더(PDF시 PDF리더, TEXT시 단순 텍스트)\n",
    "### 로더는 종류별로 각종 메타데이터(텍스트 이외의 정보 ex)페이지 번호 등)\n",
    "loader = PyPDFLoader(\"2024_연세대_수시.pdf\")\n",
    "pages = loader.load_and_split() ## 페이지별로 찢기"
   ]
  },
  {
   "cell_type": "code",
   "execution_count": 17,
   "metadata": {},
   "outputs": [],
   "source": [
    "## 2. 토크나이저\n",
    "text_splitter = RecursiveCharacterTextSplitter(chunk_size=500, chunk_overlap=50) \n",
    "texts = text_splitter.split_documents(pages)"
   ]
  },
  {
   "cell_type": "code",
   "execution_count": 18,
   "metadata": {},
   "outputs": [],
   "source": [
    "# 3. 임베딩기 선정(Open ai 또는 Hugging face)\n",
    "model_name = \"jhgan/ko-sbert-nli\" # 3. 임베딩기\n",
    "model_kwargs = {'device': 'cpu'}\n",
    "encode_kwargs = {'normalize_embeddings': True}\n",
    "hf = HuggingFaceEmbeddings(\n",
    "    model_name=model_name,\n",
    "    model_kwargs=model_kwargs,\n",
    "    encode_kwargs=encode_kwargs\n",
    ")"
   ]
  },
  {
   "cell_type": "code",
   "execution_count": 21,
   "metadata": {},
   "outputs": [],
   "source": [
    "## 4. VectorDB(Chroma)\n",
    "docsearch = Chroma.from_documents(texts, hf)"
   ]
  },
  {
   "cell_type": "code",
   "execution_count": 30,
   "metadata": {},
   "outputs": [
    {
     "data": {
      "text/plain": [
       "[Document(metadata={'page': 2, 'source': '2024_연세대_수시.pdf'}, page_content='지원자 유의사항 요약  5. ( ) ·······································································································································································18\\n세부 전형별 안내< >\\n학생부위주 학생부교과전형 추천형 및 학생부종합전형 활동우수형 국제형 기회균형. | [ ] [ , , ]Ⅴ ·······························································19\\n학생부위주 학생부교과전형 추천형  _1. | [ ]Ⅴ ·········································································································································20'),\n",
       " Document(metadata={'page': 48, 'source': '2024_연세대_수시.pdf'}, page_content='연세대학교 서울캠퍼스\\n44 세부 전형별 안내 논술전형 . | Ⅵ제출서류6. \\n가 서류제출 안내  . \\n제출 기간 전형일정 참조    1) : ‘5. ’ \\n제출 방식 방문 택배 또는 등기우편 제출 등기우편은 금    2) : ( ) ( 2024.9.13.( )  소인까지 유효)\\n제출 주소 우 서울특별시 서대문구 연세로 연세대학교 동 백주년기념관 층 입학전형실 수시모집 담당자 앞    3) : ( ) 03722 50 201 ( ) 3\\n인터넷 원서접수 사이트에서 제출서류 안내 를 참고하여 서류제출용 봉투표지 를 출력 후 봉투에 부착       ‘ ’ ‘ ’※ \\n도착 확인 월 연세대학교 입학처 홈페이지    4) : 2024.9.30.( ) 17:00, \\n나 제출서류  . \\n구분지원자 고교\\n① ② ③ ④ ⑤ ⑥\\n학생부\\n일괄 다운로드( )학생부\\n서면 제출( )졸업 예정( )\\n증명서 해외학교관련\\n사항기록표 *국내학력인정\\n확인서조기졸업\\n예정자 명단\\n국내\\n고등학교학생부 온라인'),\n",
       " Document(metadata={'page': 70, 'source': '2024_연세대_수시.pdf'}, page_content='전공계열 관련 교과 성취도( ) 고교 교육과정에서 전공 계열 에 필요한 과목을 수강하고 취득한 학업 성취 수준 ( )\\n전공 계열 과 관련된 과목의 석차등급 성취도 원점수 평균 표준편차 이수단위 수강자수 성취도별 분포 비율 등을 종합적으로 ( ) / , , , , , , ● \\n고려한 성취 수준은 적절한가   ?\\n전공 계열 과 관련된 동일 교과 내 일반선택과목 대비 진로선택과목의 성취수준은 어떠한가( ) ?● \\n진로 탐색 활동과 경험 자신의 진로를 탐색하는 과정에서 이루어진 활동이나 경험 및 노력 정도\\n자신의 관심 분야나 흥미와 관련한 다양한 활동에 참여하여 노력한 경험이 있는가?● \\n교과 활동이나 창의적 체험활동에서 전공 계열 에 대한 관심을 가지고 탐색한 경험이 있는가 ( ) ? ●'),\n",
       " Document(metadata={'page': 7, 'source': '2024_연세대_수시.pdf'}, page_content='고등학교 졸업학력 검정고시 합격자 - ◎ - ◎ △ ◎ - ◎ ◎\\n지원 가능 세부 지원자격에 따라 다름 지원 불가 [ : ]    [ : ]    [ - : ]◎ △ \\n* 학생부교과전형 추천형 은 출신 고등학교의 학교장 추천을 받은 자에 한하며 수험생은 본인의 소속고등학교와 반드시 사전협의 후 원서접수 해야 함 [ ] , \\n국내 학력인정 외국교육기관이란 국내 소재 외국교육기관 외국인학교 및 * , 경제자유구역 및 제주국제자유도시의 외국교육기관 설립 운영에 관한 특별법 · 「 」 \\n또는 제주특별자치도 설치 및 국제자유도시 조성을 위한 특별법「 」 에 의한 국제학교를 의미함 \\n전형별 전형요소 및 평가자료 요약3. \\n구분학생부\\n교과전형학생부종합전형\\n논술\\n전형특기자전형고른기회\\n전형\\n추천형활동\\n우수형국제형\\n기회\\n균형국제\\n인재체육\\n인재특수교육\\n대상자국내고해외고\\n검정고시\\n전형\\n요소학생부교과 정량평가 ( ) ◎ - - - - - - ◎ -\\n서류평가학생부'),\n",
       " Document(metadata={'page': 58, 'source': '2024_연세대_수시.pdf'}, page_content='비교과활동 기록표의 연번을 증빙서류 우측 상단에 기재하고 순서대로 정리하여 제출함∙\\n증빙서류에 연번을 제대로 기재하지 않아 해당 활동을 확인할 수 없을 경우 평가에 반영되지 않을 수 있음∙\\n비교과활동 기록표의 내용에 대한 증빙이 없는 경우 인정하지 않음 , ∙\\n∙증빙서류에 이름 일시 학년 기간 활동명 등이 기재되어 있어야 함 해당 사항을 형광펜이나 색이 있는 볼펜으로 표시한 후 제출해야 함 , ( , ), ( )\\n수학기간 기록표 온라인 입력 ( ) ⑦ \\n외국 소재 고등학교 졸업 예정 자 또는 학기 이상 이수한 자에 한하여 원서접수 시 원서접수 사이트에 입력  ( ) 1∙\\n해외학교 관련사항 기록표 온라인 입력 ( ) ⑧ \\n 원서접수 시 수학기간 기록표와 해외학교 관련사항 기록표에 입력한 내용을 바탕으로 학력 조회할 예정이므로 재학한 학교에 대한  ∙\\n정보를 정확하게 원서접수 사이트에 입력해야 함')]"
      ]
     },
     "execution_count": 30,
     "metadata": {},
     "output_type": "execute_result"
    }
   ],
   "source": [
    "## 5. 검색기\n",
    "retriever = docsearch.as_retriever(\n",
    "                                search_type=\"mmr\",\n",
    "                                search_kwargs={'k':5, 'fetch_k': 50}) ## k는 검색 유사도 문장 수\n",
    "retriever.get_relevant_documents(\"추천형에 대해 알려줘\") ## 이 후 chain.invoke question이 들어올 곳"
   ]
  },
  {
   "cell_type": "code",
   "execution_count": null,
   "metadata": {},
   "outputs": [],
   "source": [
    "## 프롬프트\n",
    "template = \"\"\"Answer the question as based only on the following context:\n",
    "{context}\n",
    "\n",
    "Question: {question}\n",
    "\"\"\"\n",
    "\n",
    "prompt = ChatPromptTemplate.from_template(template)\n",
    "\n",
    "## 6. LLM 선정\n",
    "os.environ['GOOGLE_API_KEY'] = \"gemini-api-key\"\n",
    "gemini = ChatGoogleGenerativeAI(model=\"gemini-pro\", temperature = 0)\n",
    "\n",
    "## RAG\n",
    "chain = RunnableMap({\n",
    "    \"context\": lambda x: retriever.get_relevant_documents(x['question']),\n",
    "    \"question\": lambda x: x['question']\n",
    "}) | prompt | gemini\n",
    "\n",
    "\n",
    "Markdown(chain.invoke({'question': \"묻고 싶은 문장\"}).content)"
   ]
  }
 ],
 "metadata": {
  "kernelspec": {
   "display_name": "rag",
   "language": "python",
   "name": "python3"
  },
  "language_info": {
   "codemirror_mode": {
    "name": "ipython",
    "version": 3
   },
   "file_extension": ".py",
   "mimetype": "text/x-python",
   "name": "python",
   "nbconvert_exporter": "python",
   "pygments_lexer": "ipython3",
   "version": "3.12.2"
  }
 },
 "nbformat": 4,
 "nbformat_minor": 2
}
